{
 "cells": [
  {
   "cell_type": "markdown",
   "metadata": {},
   "source": [
    "Arket rekner ut ekstremverdier for klimadata. Koden er hentet fra NVE rapport 2014/22"
   ]
  },
  {
   "cell_type": "code",
   "execution_count": 1,
   "metadata": {},
   "outputs": [],
   "source": [
    "# Fetch code:\n",
    "#source(\"http://folk.uio.no/trondr/R/gev_colestawn_prior_with_sep_gev_dist.R\")\n",
    "source(\"C:/R/gev_colestawn_prior_with_sep_gev_dist.R\")\n"
   ]
  },
  {
   "cell_type": "code",
   "execution_count": 2,
   "metadata": {},
   "outputs": [],
   "source": [
    "y=scan(\"C:/Users/jan.aalbu/OneDrive - Asplan Viak/Koding/Ekstremverdier/ershovdstolane_maks_3dogn_sno.txt\")"
   ]
  },
  {
   "cell_type": "code",
   "execution_count": 3,
   "metadata": {},
   "outputs": [],
   "source": [
    "r=gev.ksidist.result(y,ksi.lower=0.028,ksi.upper=0.062)\n",
    "# gev.ksi.result takes an array of yearly maximums and\n",
    "# returns a list of properties found, that can be used in the\n",
    "# methods gev.returnvalue.meanpar,\n",
    "# gev.returnvalue.medianpar, gev.returnvalue.quantile\n",
    "# and gev.returnvalue.mean.\n",
    "# It has the following options:\n",
    "# T10.95.lower: Lower limit in the prior of the 95% credibility band for the 10\n",
    "# year return value (T10). Default:3\n",
    "# T10.95.upper: Upper limit in the prior of the 95% credibility band for the 10\n",
    "# year return value (T10). Default:600\n",
    "# T100_T10.95.lower: Lower limit in the prior for the 95% credibility band of\n",
    "# T100-T10. Default:3\n",
    "# T100_T10.95.upper: Upper limit in the prior for the 95% credibility band of\n",
    "# T100-T10. Default:600\n",
    "# mcmc.numsamples: Number of MCMC samples. Default:1000\n",
    "# mcmc.burnin: Number of bunr-in samples. Default:10000\n",
    "# mcmc.spacing: Number of MCMC iterations between each sample. Default:10\n",
    "# mcmc.numtemp: Number of tempering chains used in the MCMC algorithm."
   ]
  },
  {
   "cell_type": "code",
   "execution_count": null,
   "metadata": {},
   "outputs": [],
   "source": []
  },
  {
   "cell_type": "code",
   "execution_count": 4,
   "metadata": {},
   "outputs": [
    {
     "name": "stdout",
     "output_type": "stream",
     "text": [
      "[1] \"100 års returverdi\"\n"
     ]
    },
    {
     "data": {
      "text/html": [
       "45.6415217727288"
      ],
      "text/latex": [
       "45.6415217727288"
      ],
      "text/markdown": [
       "45.6415217727288"
      ],
      "text/plain": [
       "[1] 45.64152"
      ]
     },
     "metadata": {},
     "output_type": "display_data"
    },
    {
     "name": "stdout",
     "output_type": "stream",
     "text": [
      "[1] \"1000 års returverdi\"\n"
     ]
    },
    {
     "data": {
      "text/html": [
       "60.0330164277279"
      ],
      "text/latex": [
       "60.0330164277279"
      ],
      "text/markdown": [
       "60.0330164277279"
      ],
      "text/plain": [
       "[1] 60.03302"
      ]
     },
     "metadata": {},
     "output_type": "display_data"
    },
    {
     "name": "stdout",
     "output_type": "stream",
     "text": [
      "[1] \"5000 års returverdi\"\n"
     ]
    },
    {
     "data": {
      "text/html": [
       "70.9760590608737"
      ],
      "text/latex": [
       "70.9760590608737"
      ],
      "text/markdown": [
       "70.9760590608737"
      ],
      "text/plain": [
       "[1] 70.97606"
      ]
     },
     "metadata": {},
     "output_type": "display_data"
    },
    {
     "data": {
      "text/html": [
       "<dl>\n",
       "\t<dt>$mu</dt>\n",
       "\t\t<dd>20.9338655757882</dd>\n",
       "\t<dt>$sigma</dt>\n",
       "\t\t<dd>4.84984773348241</dd>\n",
       "\t<dt>$ksi</dt>\n",
       "\t\t<dd>0.0444103335783738</dd>\n",
       "</dl>\n"
      ],
      "text/latex": [
       "\\begin{description}\n",
       "\\item[\\$mu] 20.9338655757882\n",
       "\\item[\\$sigma] 4.84984773348241\n",
       "\\item[\\$ksi] 0.0444103335783738\n",
       "\\end{description}\n"
      ],
      "text/markdown": [
       "$mu\n",
       ":   20.9338655757882\n",
       "$sigma\n",
       ":   4.84984773348241\n",
       "$ksi\n",
       ":   0.0444103335783738\n",
       "\n",
       "\n"
      ],
      "text/plain": [
       "$mu\n",
       "[1] 20.93387\n",
       "\n",
       "$sigma\n",
       "[1] 4.849848\n",
       "\n",
       "$ksi\n",
       "[1] 0.04441033\n"
      ]
     },
     "metadata": {},
     "output_type": "display_data"
    },
    {
     "data": {
      "text/html": [
       "<dl>\n",
       "\t<dt>$mu</dt>\n",
       "\t\t<dd>20.9781842647615</dd>\n",
       "\t<dt>$sigma</dt>\n",
       "\t\t<dd>4.86974745982439</dd>\n",
       "\t<dt>$ksi</dt>\n",
       "\t\t<dd>0.0443731869064229</dd>\n",
       "</dl>\n"
      ],
      "text/latex": [
       "\\begin{description}\n",
       "\\item[\\$mu] 20.9781842647615\n",
       "\\item[\\$sigma] 4.86974745982439\n",
       "\\item[\\$ksi] 0.0443731869064229\n",
       "\\end{description}\n"
      ],
      "text/markdown": [
       "$mu\n",
       ":   20.9781842647615\n",
       "$sigma\n",
       ":   4.86974745982439\n",
       "$ksi\n",
       ":   0.0443731869064229\n",
       "\n",
       "\n"
      ],
      "text/plain": [
       "$mu\n",
       "[1] 20.97818\n",
       "\n",
       "$sigma\n",
       "[1] 4.869747\n",
       "\n",
       "$ksi\n",
       "[1] 0.04437319\n"
      ]
     },
     "metadata": {},
     "output_type": "display_data"
    },
    {
     "data": {
      "text/html": [
       "<dl>\n",
       "\t<dt>$mu</dt>\n",
       "\t\t<dd><dl class=dl-horizontal>\n",
       "\t<dt>2.5%</dt>\n",
       "\t\t<dd>19.7374781089723</dd>\n",
       "\t<dt>97.5%</dt>\n",
       "\t\t<dd>22.4300356572794</dd>\n",
       "</dl>\n",
       "</dd>\n",
       "\t<dt>$sigma</dt>\n",
       "\t\t<dd><dl class=dl-horizontal>\n",
       "\t<dt>2.5%</dt>\n",
       "\t\t<dd>4.03282577134999</dd>\n",
       "\t<dt>97.5%</dt>\n",
       "\t\t<dd>5.91263597150538</dd>\n",
       "</dl>\n",
       "</dd>\n",
       "\t<dt>$ksi</dt>\n",
       "\t\t<dd><dl class=dl-horizontal>\n",
       "\t<dt>2.5%</dt>\n",
       "\t\t<dd>0.0281169575080379</dd>\n",
       "\t<dt>97.5%</dt>\n",
       "\t\t<dd>0.0609782664710645</dd>\n",
       "</dl>\n",
       "</dd>\n",
       "</dl>\n"
      ],
      "text/latex": [
       "\\begin{description}\n",
       "\\item[\\$mu] \\begin{description*}\n",
       "\\item[2.5\\textbackslash{}\\%] 19.7374781089723\n",
       "\\item[97.5\\textbackslash{}\\%] 22.4300356572794\n",
       "\\end{description*}\n",
       "\n",
       "\\item[\\$sigma] \\begin{description*}\n",
       "\\item[2.5\\textbackslash{}\\%] 4.03282577134999\n",
       "\\item[97.5\\textbackslash{}\\%] 5.91263597150538\n",
       "\\end{description*}\n",
       "\n",
       "\\item[\\$ksi] \\begin{description*}\n",
       "\\item[2.5\\textbackslash{}\\%] 0.0281169575080379\n",
       "\\item[97.5\\textbackslash{}\\%] 0.0609782664710645\n",
       "\\end{description*}\n",
       "\n",
       "\\end{description}\n"
      ],
      "text/markdown": [
       "$mu\n",
       ":   2.5%\n",
       ":   19.737478108972397.5%\n",
       ":   22.4300356572794\n",
       "\n",
       "\n",
       "$sigma\n",
       ":   2.5%\n",
       ":   4.0328257713499997.5%\n",
       ":   5.91263597150538\n",
       "\n",
       "\n",
       "$ksi\n",
       ":   2.5%\n",
       ":   0.028116957508037997.5%\n",
       ":   0.0609782664710645\n",
       "\n",
       "\n",
       "\n",
       "\n"
      ],
      "text/plain": [
       "$mu\n",
       "    2.5%    97.5% \n",
       "19.73748 22.43004 \n",
       "\n",
       "$sigma\n",
       "    2.5%    97.5% \n",
       "4.032826 5.912636 \n",
       "\n",
       "$ksi\n",
       "      2.5%      97.5% \n",
       "0.02811696 0.06097827 \n"
      ]
     },
     "metadata": {},
     "output_type": "display_data"
    }
   ],
   "source": [
    "#Default:1\n",
    "# (no extra tempering chains)\n",
    "print(\"100 års returverdi\")\n",
    "gev.returnvalue.quantile(r,100,0.5)\n",
    "# Get T100 median estimate\n",
    "print(\"1000 års returverdi\")\n",
    "gev.returnvalue.quantile(r,1000,0.5)\n",
    "# Get T1000 median estimate\n",
    "print(\"5000 års returverdi\")\n",
    "gev.returnvalue.quantile(r,5000,0.5)\n",
    "# Get median and mean parameter estimates:\n",
    "r$par.median\n",
    "r$par.mean\n",
    "# 95% credibility band:\n",
    "r$par.95cred"
   ]
  },
  {
   "cell_type": "code",
   "execution_count": 5,
   "metadata": {},
   "outputs": [
    {
     "data": {
      "image/png": "[encoded data removed]",
      "text/plain": [
       "Plot with title \"Ekstremverdier 3 døgn snømengde\""
      ]
     },
     "metadata": {},
     "output_type": "display_data"
    }
   ],
   "source": [
    "# Plot median return values\n",
    "options(repr.plot.width=6, repr.plot.height=4)\n",
    "# First, plot data:\n",
    "n=length(y)\n",
    "plot((n+0.12)/(1:n-0.44),sort(y,decreasing=T),log=\"x\",xlim=c(1,5000),ylim=c(min(y),max(y)*2),main='Ekstremverdier 3 døgn snømengde',xlab=\"Returperiode, år\", ylab=\"Nedbør (mm)\",tck=1,fg=grey(0.7))\n",
    "\n",
    "# Median return values for return period going from 1 to 5000 years:\n",
    "returntimes=exp(seq(0,log(5000),0.01))\n",
    "lines(returntimes,gev.returnvalue.quantile(r,returntimes,\n",
    "0.5),col=\"red\")\n",
    "# 95% credibility interval:\n",
    "lines(returntimes,gev.returnvalue.quantile(r,returntimes,0.025),col=\"blue\")\n",
    "lines(returntimes,gev.returnvalue.quantile(r,returntimes,0.975),col=\"blue\")\n"
   ]
  },
  {
   "cell_type": "code",
   "execution_count": null,
   "metadata": {},
   "outputs": [],
   "source": []
  },
  {
   "cell_type": "code",
   "execution_count": null,
   "metadata": {},
   "outputs": [],
   "source": []
  },
  {
   "cell_type": "code",
   "execution_count": null,
   "metadata": {},
   "outputs": [],
   "source": []
  }
 ],
 "metadata": {
  "kernelspec": {
   "display_name": "R",
   "language": "R",
   "name": "ir"
  },
  "language_info": {
   "codemirror_mode": "r",
   "file_extension": ".r",
   "mimetype": "text/x-r-source",
   "name": "R",
   "pygments_lexer": "r",
   "version": "3.6.1"
  }
 },
 "nbformat": 4,
 "nbformat_minor": 4
}
